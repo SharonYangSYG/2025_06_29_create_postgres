{
 "cells": [
  {
   "cell_type": "code",
   "execution_count": null,
   "id": "a3b5e26e",
   "metadata": {},
   "outputs": [],
   "source": []
  },
  {
   "cell_type": "code",
   "execution_count": null,
   "id": "59ec4305",
   "metadata": {},
   "outputs": [],
   "source": []
  },
  {
   "cell_type": "markdown",
   "id": "2213522c",
   "metadata": {},
   "source": [
    "###這是Python基礎課程\n",
    "    python基本資料型別"
   ]
  },
  {
   "cell_type": "code",
   "execution_count": 14,
   "id": "786cf47e",
   "metadata": {},
   "outputs": [
    {
     "name": "stdout",
     "output_type": "stream",
     "text": [
      "Hello! Python!\n",
      "以下是Python基本資料類型\n"
     ]
    },
    {
     "data": {
      "text/plain": [
       "False"
      ]
     },
     "execution_count": 14,
     "metadata": {},
     "output_type": "execute_result"
    }
   ],
   "source": [
    "print(\"Hello! Python!\")\n",
    "print(\"以下是Python基本資料類型\")\n",
    "\n",
    "15#這是整數,(int)\n",
    "15.0#這是浮點數,(float)\n",
    "\"15.0\"#這是字串,(str)\n",
    "'15.0'#這是字串,(str)\n",
    "True#這是布林值,(bool)\n",
    "False#這是布林值,(bool)"
   ]
  }
 ],
 "metadata": {
  "kernelspec": {
   "display_name": "pydev",
   "language": "python",
   "name": "python3"
  },
  "language_info": {
   "codemirror_mode": {
    "name": "ipython",
    "version": 3
   },
   "file_extension": ".py",
   "mimetype": "text/x-python",
   "name": "python",
   "nbconvert_exporter": "python",
   "pygments_lexer": "ipython3",
   "version": "3.10.18"
  }
 },
 "nbformat": 4,
 "nbformat_minor": 5
}
