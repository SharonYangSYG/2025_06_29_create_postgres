{
 "cells": [
  {
   "cell_type": "code",
   "execution_count": null,
   "id": "a3b5e26e",
   "metadata": {},
   "outputs": [],
   "source": []
  },
  {
   "cell_type": "code",
   "execution_count": null,
   "id": "59ec4305",
   "metadata": {},
   "outputs": [],
   "source": []
  },
  {
   "cell_type": "markdown",
   "id": "2213522c",
   "metadata": {},
   "source": [
    "###這是Python基礎課程\n",
    "    python基本資料型別"
   ]
  },
  {
   "cell_type": "code",
   "execution_count": null,
   "id": "786cf47e",
   "metadata": {},
   "outputs": [
    {
     "name": "stdout",
     "output_type": "stream",
     "text": [
      "Hello! Python!\n",
      "以下是Python基本資料類型\n",
      "整數(int): 15\n"
     ]
    },
    {
     "data": {
      "text/plain": [
       "False"
      ]
     },
     "execution_count": 15,
     "metadata": {},
     "output_type": "execute_result"
    }
   ],
   "source": [
    "print(\"Hello! Python!\")\n",
    "print(\"以下是Python基本資料類型\")\n",
    "\n",
    "print(\"整數(int):\", 15)\n",
    "\n",
    "15#這是整數,(int)\n",
    "15.0#這是浮點數,(float)\n",
    "\"15.0\"#這是字串,(str)\n",
    "'15.0'#這是字串,(str)\n",
    "True#這是布林值,(bool)\n",
    "False#這是布林值,(bool)"
   ]
  },
  {
   "cell_type": "code",
   "execution_count": 1,
   "id": "065abebd",
   "metadata": {},
   "outputs": [
    {
     "name": "stdout",
     "output_type": "stream",
     "text": [
      "SELECT \"stationCode\",\"stationName\",\"stationAddrTw\"\n",
      "FROM \"台鐵車站資訊\"\n",
      "WHERE \"stationAddrTw\" LIKE '%基隆市%';\n"
     ]
    }
   ],
   "source": [
    "print(\"SELECT \\\"stationCode\\\",\\\"stationName\\\",\\\"stationAddrTw\\\"\\nFROM \\\"台鐵車站資訊\\\"\\nWHERE \\\"stationAddrTw\\\" LIKE \\'%基隆市%\\';\")"
   ]
  },
  {
   "cell_type": "code",
   "execution_count": 2,
   "id": "d62543e5",
   "metadata": {},
   "outputs": [
    {
     "data": {
      "text/plain": [
       "'單行字串'"
      ]
     },
     "execution_count": 2,
     "metadata": {},
     "output_type": "execute_result"
    }
   ],
   "source": [
    "\n",
    "\"單行字串\"\n",
    "'單行字串'\n"
   ]
  },
  {
   "cell_type": "code",
   "execution_count": 5,
   "id": "9ac7eb43",
   "metadata": {},
   "outputs": [
    {
     "name": "stdout",
     "output_type": "stream",
     "text": [
      "SELECT \"stationCode\",\"stationName\",\"stationAddrTw\"\n",
      "FROM \"台鐵車站資訊\"\n",
      "WHERE \"stationAddrTw\" LIKE '%基隆市%';\n"
     ]
    }
   ],
   "source": [
    "#多行字串\n",
    "print(\"\"\"SELECT \"stationCode\",\"stationName\",\"stationAddrTw\"\n",
    "FROM \"台鐵車站資訊\"\n",
    "WHERE \"stationAddrTw\" LIKE '%基隆市%';\"\"\")"
   ]
  },
  {
   "cell_type": "code",
   "execution_count": 6,
   "id": "c2499b66",
   "metadata": {},
   "outputs": [
    {
     "name": "stdout",
     "output_type": "stream",
     "text": [
      "SELECT \"stationCode\", \"stationName\", \"stationAddrTw\"\n",
      "FROM \"台鐵車站資訊\"\n",
      "WHERE \"stationAddrTw\" LIKE '%基隆市%';\n"
     ]
    }
   ],
   "source": [
    "print(\"\"\"SELECT \"stationCode\", \"stationName\", \"stationAddrTw\"\n",
    "FROM \"台鐵車站資訊\"\n",
    "WHERE \"stationAddrTw\" LIKE '%基隆市%';\"\"\")"
   ]
  },
  {
   "cell_type": "code",
   "execution_count": null,
   "id": "59627f33",
   "metadata": {},
   "outputs": [],
   "source": [
    " ###JOIN\n",
    "select  \n",
    "\"stationcode\", \n",
    "\"stationname\", \n",
    "\"name\"\n",
    "FROM  \"台鐵車站資訊\"\n",
    "WHERE \"stationaddrtw\" LIKE '基隆市%';\n",
    "\n",
    "SELECT *\n",
    "FROM \"每日各站進出站人數\" \n",
    "LEFT JOIN \"台鐵車站資訊\" \n",
    "ON \"車站代碼\"=\"stationcode\""
   ]
  }
 ],
 "metadata": {
  "kernelspec": {
   "display_name": "pydev",
   "language": "python",
   "name": "python3"
  },
  "language_info": {
   "codemirror_mode": {
    "name": "ipython",
    "version": 3
   },
   "file_extension": ".py",
   "mimetype": "text/x-python",
   "name": "python",
   "nbconvert_exporter": "python",
   "pygments_lexer": "ipython3",
   "version": "3.10.18"
  }
 },
 "nbformat": 4,
 "nbformat_minor": 5
}
